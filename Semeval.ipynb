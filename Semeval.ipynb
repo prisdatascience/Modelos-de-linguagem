{
 "cells": [
  {
   "cell_type": "code",
   "execution_count": 22,
   "id": "8ae7a8ec-ba46-452a-9842-099b3b38abd0",
   "metadata": {},
   "outputs": [
    {
     "name": "stdout",
     "output_type": "stream",
     "text": [
      "Requirement already satisfied: langchain in /opt/conda/lib/python3.12/site-packages (0.3.11)\n",
      "Requirement already satisfied: PyYAML>=5.3 in /opt/conda/lib/python3.12/site-packages (from langchain) (6.0.2)\n",
      "Requirement already satisfied: SQLAlchemy<3,>=1.4 in /opt/conda/lib/python3.12/site-packages (from langchain) (2.0.36)\n",
      "Requirement already satisfied: aiohttp<4.0.0,>=3.8.3 in /opt/conda/lib/python3.12/site-packages (from langchain) (3.11.2)\n",
      "Requirement already satisfied: langchain-core<0.4.0,>=0.3.24 in /opt/conda/lib/python3.12/site-packages (from langchain) (0.3.24)\n",
      "Requirement already satisfied: langchain-text-splitters<0.4.0,>=0.3.0 in /opt/conda/lib/python3.12/site-packages (from langchain) (0.3.2)\n",
      "Requirement already satisfied: langsmith<0.3,>=0.1.17 in /opt/conda/lib/python3.12/site-packages (from langchain) (0.2.3)\n",
      "Requirement already satisfied: numpy<3,>=1.26.2 in /opt/conda/lib/python3.12/site-packages (from langchain) (2.0.2)\n",
      "Requirement already satisfied: pydantic<3.0.0,>=2.7.4 in /opt/conda/lib/python3.12/site-packages (from langchain) (2.9.2)\n",
      "Requirement already satisfied: requests<3,>=2 in /opt/conda/lib/python3.12/site-packages (from langchain) (2.32.3)\n",
      "Requirement already satisfied: tenacity!=8.4.0,<10,>=8.1.0 in /opt/conda/lib/python3.12/site-packages (from langchain) (9.0.0)\n",
      "Requirement already satisfied: aiohappyeyeballs>=2.3.0 in /opt/conda/lib/python3.12/site-packages (from aiohttp<4.0.0,>=3.8.3->langchain) (2.4.3)\n",
      "Requirement already satisfied: aiosignal>=1.1.2 in /opt/conda/lib/python3.12/site-packages (from aiohttp<4.0.0,>=3.8.3->langchain) (1.3.1)\n",
      "Requirement already satisfied: attrs>=17.3.0 in /opt/conda/lib/python3.12/site-packages (from aiohttp<4.0.0,>=3.8.3->langchain) (24.2.0)\n",
      "Requirement already satisfied: frozenlist>=1.1.1 in /opt/conda/lib/python3.12/site-packages (from aiohttp<4.0.0,>=3.8.3->langchain) (1.5.0)\n",
      "Requirement already satisfied: multidict<7.0,>=4.5 in /opt/conda/lib/python3.12/site-packages (from aiohttp<4.0.0,>=3.8.3->langchain) (6.1.0)\n",
      "Requirement already satisfied: propcache>=0.2.0 in /opt/conda/lib/python3.12/site-packages (from aiohttp<4.0.0,>=3.8.3->langchain) (0.2.0)\n",
      "Requirement already satisfied: yarl<2.0,>=1.17.0 in /opt/conda/lib/python3.12/site-packages (from aiohttp<4.0.0,>=3.8.3->langchain) (1.17.2)\n",
      "Requirement already satisfied: jsonpatch<2.0,>=1.33 in /opt/conda/lib/python3.12/site-packages (from langchain-core<0.4.0,>=0.3.24->langchain) (1.33)\n",
      "Requirement already satisfied: packaging<25,>=23.2 in /opt/conda/lib/python3.12/site-packages (from langchain-core<0.4.0,>=0.3.24->langchain) (24.2)\n",
      "Requirement already satisfied: typing-extensions>=4.7 in /opt/conda/lib/python3.12/site-packages (from langchain-core<0.4.0,>=0.3.24->langchain) (4.12.2)\n",
      "Requirement already satisfied: httpx<1,>=0.23.0 in /opt/conda/lib/python3.12/site-packages (from langsmith<0.3,>=0.1.17->langchain) (0.27.2)\n",
      "Requirement already satisfied: orjson<4.0.0,>=3.9.14 in /opt/conda/lib/python3.12/site-packages (from langsmith<0.3,>=0.1.17->langchain) (3.10.12)\n",
      "Requirement already satisfied: requests-toolbelt<2.0.0,>=1.0.0 in /opt/conda/lib/python3.12/site-packages (from langsmith<0.3,>=0.1.17->langchain) (1.0.0)\n",
      "Requirement already satisfied: annotated-types>=0.6.0 in /opt/conda/lib/python3.12/site-packages (from pydantic<3.0.0,>=2.7.4->langchain) (0.7.0)\n",
      "Requirement already satisfied: pydantic-core==2.23.4 in /opt/conda/lib/python3.12/site-packages (from pydantic<3.0.0,>=2.7.4->langchain) (2.23.4)\n",
      "Requirement already satisfied: charset-normalizer<4,>=2 in /opt/conda/lib/python3.12/site-packages (from requests<3,>=2->langchain) (3.4.0)\n",
      "Requirement already satisfied: idna<4,>=2.5 in /opt/conda/lib/python3.12/site-packages (from requests<3,>=2->langchain) (3.10)\n",
      "Requirement already satisfied: urllib3<3,>=1.21.1 in /opt/conda/lib/python3.12/site-packages (from requests<3,>=2->langchain) (2.2.3)\n",
      "Requirement already satisfied: certifi>=2017.4.17 in /opt/conda/lib/python3.12/site-packages (from requests<3,>=2->langchain) (2024.8.30)\n",
      "Requirement already satisfied: greenlet!=0.4.17 in /opt/conda/lib/python3.12/site-packages (from SQLAlchemy<3,>=1.4->langchain) (3.1.1)\n",
      "Requirement already satisfied: anyio in /opt/conda/lib/python3.12/site-packages (from httpx<1,>=0.23.0->langsmith<0.3,>=0.1.17->langchain) (4.6.2.post1)\n",
      "Requirement already satisfied: httpcore==1.* in /opt/conda/lib/python3.12/site-packages (from httpx<1,>=0.23.0->langsmith<0.3,>=0.1.17->langchain) (1.0.7)\n",
      "Requirement already satisfied: sniffio in /opt/conda/lib/python3.12/site-packages (from httpx<1,>=0.23.0->langsmith<0.3,>=0.1.17->langchain) (1.3.1)\n",
      "Requirement already satisfied: h11<0.15,>=0.13 in /opt/conda/lib/python3.12/site-packages (from httpcore==1.*->httpx<1,>=0.23.0->langsmith<0.3,>=0.1.17->langchain) (0.14.0)\n",
      "Requirement already satisfied: jsonpointer>=1.9 in /opt/conda/lib/python3.12/site-packages (from jsonpatch<2.0,>=1.33->langchain-core<0.4.0,>=0.3.24->langchain) (3.0.0)\n"
     ]
    }
   ],
   "source": [
    "!pip install langchain"
   ]
  },
  {
   "cell_type": "code",
   "execution_count": 23,
   "id": "4542013a-dde7-4bf6-8b41-78605d003786",
   "metadata": {},
   "outputs": [
    {
     "name": "stdout",
     "output_type": "stream",
     "text": [
      "Requirement already satisfied: datasets in /opt/conda/lib/python3.12/site-packages (3.2.0)\n",
      "Requirement already satisfied: filelock in /opt/conda/lib/python3.12/site-packages (from datasets) (3.16.1)\n",
      "Requirement already satisfied: numpy>=1.17 in /opt/conda/lib/python3.12/site-packages (from datasets) (2.0.2)\n",
      "Requirement already satisfied: pyarrow>=15.0.0 in /opt/conda/lib/python3.12/site-packages (from datasets) (18.0.0)\n",
      "Requirement already satisfied: dill<0.3.9,>=0.3.0 in /opt/conda/lib/python3.12/site-packages (from datasets) (0.3.8)\n",
      "Requirement already satisfied: pandas in /opt/conda/lib/python3.12/site-packages (from datasets) (2.2.3)\n",
      "Requirement already satisfied: requests>=2.32.2 in /opt/conda/lib/python3.12/site-packages (from datasets) (2.32.3)\n",
      "Requirement already satisfied: tqdm>=4.66.3 in /opt/conda/lib/python3.12/site-packages (from datasets) (4.67.0)\n",
      "Requirement already satisfied: xxhash in /opt/conda/lib/python3.12/site-packages (from datasets) (3.5.0)\n",
      "Requirement already satisfied: multiprocess<0.70.17 in /opt/conda/lib/python3.12/site-packages (from datasets) (0.70.16)\n",
      "Requirement already satisfied: fsspec<=2024.9.0,>=2023.1.0 in /opt/conda/lib/python3.12/site-packages (from fsspec[http]<=2024.9.0,>=2023.1.0->datasets) (2024.9.0)\n",
      "Requirement already satisfied: aiohttp in /opt/conda/lib/python3.12/site-packages (from datasets) (3.11.2)\n",
      "Requirement already satisfied: huggingface-hub>=0.23.0 in /opt/conda/lib/python3.12/site-packages (from datasets) (0.26.5)\n",
      "Requirement already satisfied: packaging in /opt/conda/lib/python3.12/site-packages (from datasets) (24.2)\n",
      "Requirement already satisfied: pyyaml>=5.1 in /opt/conda/lib/python3.12/site-packages (from datasets) (6.0.2)\n",
      "Requirement already satisfied: aiohappyeyeballs>=2.3.0 in /opt/conda/lib/python3.12/site-packages (from aiohttp->datasets) (2.4.3)\n",
      "Requirement already satisfied: aiosignal>=1.1.2 in /opt/conda/lib/python3.12/site-packages (from aiohttp->datasets) (1.3.1)\n",
      "Requirement already satisfied: attrs>=17.3.0 in /opt/conda/lib/python3.12/site-packages (from aiohttp->datasets) (24.2.0)\n",
      "Requirement already satisfied: frozenlist>=1.1.1 in /opt/conda/lib/python3.12/site-packages (from aiohttp->datasets) (1.5.0)\n",
      "Requirement already satisfied: multidict<7.0,>=4.5 in /opt/conda/lib/python3.12/site-packages (from aiohttp->datasets) (6.1.0)\n",
      "Requirement already satisfied: propcache>=0.2.0 in /opt/conda/lib/python3.12/site-packages (from aiohttp->datasets) (0.2.0)\n",
      "Requirement already satisfied: yarl<2.0,>=1.17.0 in /opt/conda/lib/python3.12/site-packages (from aiohttp->datasets) (1.17.2)\n",
      "Requirement already satisfied: typing-extensions>=3.7.4.3 in /opt/conda/lib/python3.12/site-packages (from huggingface-hub>=0.23.0->datasets) (4.12.2)\n",
      "Requirement already satisfied: charset-normalizer<4,>=2 in /opt/conda/lib/python3.12/site-packages (from requests>=2.32.2->datasets) (3.4.0)\n",
      "Requirement already satisfied: idna<4,>=2.5 in /opt/conda/lib/python3.12/site-packages (from requests>=2.32.2->datasets) (3.10)\n",
      "Requirement already satisfied: urllib3<3,>=1.21.1 in /opt/conda/lib/python3.12/site-packages (from requests>=2.32.2->datasets) (2.2.3)\n",
      "Requirement already satisfied: certifi>=2017.4.17 in /opt/conda/lib/python3.12/site-packages (from requests>=2.32.2->datasets) (2024.8.30)\n",
      "Requirement already satisfied: python-dateutil>=2.8.2 in /opt/conda/lib/python3.12/site-packages (from pandas->datasets) (2.9.0.post0)\n",
      "Requirement already satisfied: pytz>=2020.1 in /opt/conda/lib/python3.12/site-packages (from pandas->datasets) (2024.1)\n",
      "Requirement already satisfied: tzdata>=2022.7 in /opt/conda/lib/python3.12/site-packages (from pandas->datasets) (2024.2)\n",
      "Requirement already satisfied: six>=1.5 in /opt/conda/lib/python3.12/site-packages (from python-dateutil>=2.8.2->pandas->datasets) (1.16.0)\n",
      "Note: you may need to restart the kernel to use updated packages.\n"
     ]
    }
   ],
   "source": [
    "pip install datasets"
   ]
  },
  {
   "cell_type": "code",
   "execution_count": 24,
   "id": "6ac48a74-8c66-482d-9066-bf5dcb1fa0c8",
   "metadata": {},
   "outputs": [
    {
     "data": {
      "application/vnd.jupyter.widget-view+json": {
       "model_id": "2dac1d60002d4162b48ec28e55ad9d6e",
       "version_major": 2,
       "version_minor": 0
      },
      "text/plain": [
       "Resolving data files:   0%|          | 0/65 [00:00<?, ?it/s]"
      ]
     },
     "metadata": {},
     "output_type": "display_data"
    },
    {
     "data": {
      "application/vnd.jupyter.widget-view+json": {
       "model_id": "8e465adfc6734513aa878730d81f74d0",
       "version_major": 2,
       "version_minor": 0
      },
      "text/plain": [
       "Resolving data files:   0%|          | 0/65 [00:00<?, ?it/s]"
      ]
     },
     "metadata": {},
     "output_type": "display_data"
    }
   ],
   "source": [
    "# Importa a base databench\n",
    "\n",
    "from datasets import load_dataset\n",
    "\n",
    "# Load all QA pairs\n",
    "all_qa = load_dataset(\"cardiffnlp/databench\", name=\"qa\", split=\"train\") \n"
   ]
  },
  {
   "cell_type": "code",
   "execution_count": 25,
   "id": "0265014f-36ff-4b79-969a-56b69333c055",
   "metadata": {},
   "outputs": [],
   "source": [
    "#Funcao que gera a base de dados com base no template da base '002_Titanic'\n",
    "def GerarBaseTabularTitanic(dataFrame, tipoBase):\n",
    "\n",
    "    baseDadosTabular = \"In the list of passengers aboard the Titanic on the day of the famous accident are:\\n\"\n",
    "            \n",
    "    # Itera sobre cada linha do DataFrame\n",
    "    for index, row in dataFrame.iterrows():\n",
    "               \n",
    "        #Proposta mudança prompt Priscilla\n",
    "    \n",
    "        if (row['Survived'] == \"0\"):\n",
    "            textSurvive = \"did not survive\"\n",
    "        else:\n",
    "            textSurvive = \"survived\"\n",
    "    \n",
    "        if (row[3] == \"male\"):\n",
    "            textPromon = \"He\"\n",
    "        else:\n",
    "            textPromon = \"She\"  \n",
    "\n",
    "        \n",
    "        if (tipoBase == 'Full'): \n",
    "            template = \"{2}, in class {1}, paid {7} for the ticket, was {4} years old, and {0}. {3} was accompanied by {5} sibling(s)/spouse(s) and {6} parent(s)/child(ren).\\n\"\n",
    "            baseDadosTabular += template.format(textSurvive,row['Pclass'],row['Name'],textPromon,row['Age'],row['Siblings_Spouses Aboard'],row['Parents_Children Aboard'],row['Fare'])   \n",
    "        else:\n",
    "            template = \"{2}, in class {1}, paid {6} for the ticket, was {4} years old, and {0}. {3} was accompanied by {5} sibling(s)/spouse(s).\\n\"\n",
    "            baseDadosTabular += template.format(textSurvive,row['Pclass'],row['Name'],textPromon,row['Age'],row['Siblings_Spouses Aboard'],row['Fare'])\n",
    "\n",
    "               \n",
    "    return baseDadosTabular\n"
   ]
  },
  {
   "cell_type": "code",
   "execution_count": 26,
   "id": "cc8b8726-449f-4ff7-b3b6-ee6e2986de65",
   "metadata": {},
   "outputs": [],
   "source": [
    "from datetime import datetime\n",
    "\n",
    "#Funcao que gera a base de dados com base no template da base '009_Central'\n",
    "def GerarBaseTabularCentral(dataFrame, tipoBase):\n",
    "   \n",
    "    baseDadosTabular = \" In the dataset collected about Central Park, the environmental measurements and activities conducted are described as follows:\\n\"\n",
    "             \n",
    "    # Itera sobre cada linha do DataFrame\n",
    "    for index, row in dataFrame.iterrows():\n",
    "                  \n",
    "        if (tipoBase == 'Full'): \n",
    "\n",
    "            template = \"On the date {0}, the recorded weather conditions were: A precipitation amount of {1}; A snow precipitation amount of {2}; A minimum temperature of {3};A maximum temperature of {4}; A snow depth of {5}; \\n\"\n",
    "            baseDadosTabular += template.format(row['DATE'],row['PRCP'],row['SNOW'],row['TMIN'],row['TMAX'],row['SNWD'])     \n",
    "        \n",
    "        else:\n",
    "            \n",
    "           template = \"On the date {0}, the recorded weather conditions were: A precipitation amount of {1}; A minimum temperature of {2};A maximum temperature of {3}; A snow depth of {4};\\n\"\n",
    "           baseDadosTabular += template.format(row['DATE'],row['PRCP'],row['TMIN'],row['TMAX'],row['SNWD'])   \n",
    "           \n",
    "\n",
    "    return baseDadosTabular   \n",
    "    "
   ]
  },
  {
   "cell_type": "code",
   "execution_count": 27,
   "id": "e8f1be87-2e2e-40d5-8969-a1e25ce372de",
   "metadata": {},
   "outputs": [],
   "source": [
    "#Funcao que gera a base de dados com base no template da base '016_Holiday'\n",
    "def GerarBaseTabularHoliday(dataFrame, tipoBase):\n",
    "   \n",
    "    baseDadosTabular = \"The document Holiday Package Sales contains information about holiday package sales by customers:\\n\"\n",
    "             \n",
    "    # Itera sobre cada linha do DataFrame\n",
    "    for index, row in dataFrame.iterrows():\n",
    "\n",
    "        if (row['ProdTaken'] == \"1\"):\n",
    "            ProdTaken = \"purchased\"\n",
    "        else:\n",
    "            ProdTaken = \"did not purchase\"\n",
    "\n",
    "        if (row['Passport'] == \"1\"):\n",
    "            Passport = \"has a passport\"\n",
    "        else:\n",
    "            Passport = \"does not have a passport\"\n",
    "\n",
    "        if (row['OwnCar'] == \"1\"):\n",
    "            OwnCar = \"owns a car\"\n",
    "        else:\n",
    "            OwnCar = \"does not own a car\"\n",
    "             \n",
    "        if (tipoBase == 'Full'): \n",
    "\n",
    "            template = \"Customer {0}, {1} with marital status {2}, with occupation {3}, with the designation of {4}, aged {5} \"\n",
    "            template += \"years, and earning a monthly income of {6}, {7} the holiday package.\"\n",
    "            template += \"The contact was by {8} and took place in a city classified as tier {9}. The pitch lasted {10} minutes, and the product presented was {11}. The customer's satisfaction level with the pitch was rated as {12}.\"\n",
    "            template += \"The customer plans to travel with {13} adults and {14} children. On average, the customer takes {15} trips. Additionally, the preferred property star rating is {16}.\"\n",
    "            template += \"The customer {17} and {18}. After the pitch, {19} follow-ups were conducted.\\n\"\n",
    "            \n",
    "            baseDadosTabular += template.format(row['CustomerID'],row['Gender'],row['MaritalStatus'],row['Occupation'],row['Designation'],row['Age'],row['MonthlyIncome'], ProdTaken, row['TypeofContact'], row['CityTier'],row['DurationOfPitch'], row['ProductPitched'], row['PitchSatisfactionScore'], row['NumberOfPersonVisiting'], row['NumberOfChildrenVisiting'], row['NumberOfTrips'], row['PreferredPropertyStar'], Passport,OwnCar, row['NumberOfFollowups'])     \n",
    "        \n",
    "        else:\n",
    "            \n",
    "           template = \"Customer {0}, a {1} with marital status {2}, with occupation {3}, with the designation of {4}, aged {5} \"\n",
    "           template += \"years, and earning a monthly income of {6}, {7} the holiday package.\"\n",
    "           template += \"The contact was by {8} and took place in a city classified as tier {9}. The pitch lasted {10} minutes, and the product presented was {11}. The customer's satisfaction level with the pitch was rated as {12}.\"\n",
    "           template += \"The customer plans to travel with {13} adults and {14} children. On average, the customer takes {15} trips. Additionally, the preferred property star rating is {16}.\"\n",
    "           template += \"The customer {17} and {18}. After the pitch, {19} follow-ups were conducted.\\n\"\n",
    "            \n",
    "           baseDadosTabular += template.format(row['CustomerID'],row['Gender'],row['MaritalStatus'],row['Occupation'],row['Designation'],row['Age'],row['MonthlyIncome'], ProdTaken, row['TypeofContact'], row['CityTier'],row['DurationOfPitch'], row['ProductPitched'], row['PitchSatisfactionScore'], row['NumberOfPersonVisiting'], row['NumberOfChildrenVisiting'], row['NumberOfTrips'], row['PreferredPropertyStar'], Passport, OwnCar, row['NumberOfFollowups']) \n",
    "        \n",
    "            \n",
    "    return baseDadosTabular   \n",
    "    "
   ]
  },
  {
   "cell_type": "code",
   "execution_count": 28,
   "id": "741ae8ae-0e1c-4e9e-998c-423618318988",
   "metadata": {},
   "outputs": [],
   "source": [
    "#Funcao que gera a base de dados com base no template da base '061_Disneyland'\n",
    "def GerarBaseTabularDisneyland(dataFrame, tipoBase):\n",
    "   \n",
    "    baseDadosTabular = \"In the document Disneyland Customer Reviews, the data contains reviews provided by customers regarding their experiences at Disneyland. Below is a summary of the details for a specific review:\\n\"\n",
    "             \n",
    "    # Itera sobre cada linha do DataFrame\n",
    "    for index, row in dataFrame.iterrows():\n",
    "             \n",
    "        if (tipoBase == 'Full'): \n",
    "\n",
    "            template = \"The review with ID {0} was written by a customer from {1}. This review pertains to the {2} branch of Disneyland and was submitted in the year-month {3}. The customer rated their experience with a score of {4}. The content of the review is as follows: {5}. \\n\"\n",
    "            baseDadosTabular += template.format(row['Review_ID'],row['Reviewer_Location'],row['Branch'],row['Year_Month'],row['Rating'],row['Review_Text'])     \n",
    "        \n",
    "        else:\n",
    "            \n",
    "            template = \"The review with ID {0} was written by a customer from {1}. This review pertains to the {2} branch of Disneyland and was submitted in the year-month {3}. The customer rated their experience with a score of {4}. \\n\"\n",
    "            baseDadosTabular += template.format(row['Review_ID'],row['Reviewer_Location'],row['Branch'],row['Year_Month'],row['Rating'])   \n",
    "         \n",
    "   \n",
    "    return baseDadosTabular   "
   ]
  },
  {
   "cell_type": "code",
   "execution_count": 29,
   "id": "e8fbf12b-0ae9-4252-b642-91e420cc9943",
   "metadata": {},
   "outputs": [],
   "source": [
    "#Funcao que gera a base de dados com base no template\n",
    "def GerarBaseTabular(dataBasesId, tipoBase, dataFrame):\n",
    "    if (dataBasesId == '002_Titanic'):\n",
    "        return GerarBaseTabularTitanic(dataFrame, tipoBase)\n",
    "    elif (dataBasesId =='009_Central'):\n",
    "        return GerarBaseTabularCentral(dataFrame, tipoBase)  \n",
    "    elif (dataBasesId =='016_Holiday'):\n",
    "        return GerarBaseTabularHoliday(dataFrame, tipoBase)  \n",
    "    elif (dataBasesId =='061_Disneyland'):\n",
    "        return GerarBaseTabularDisneyland(dataFrame, tipoBase)\n",
    "        "
   ]
  },
  {
   "cell_type": "code",
   "execution_count": 30,
   "id": "cc1e815d-1f9d-4274-bec5-33a5006ebb6b",
   "metadata": {},
   "outputs": [
    {
     "name": "stdout",
     "output_type": "stream",
     "text": [
      "Requirement already satisfied: ollama in /opt/conda/lib/python3.12/site-packages (0.4.4)\n",
      "Requirement already satisfied: httpx<0.28.0,>=0.27.0 in /opt/conda/lib/python3.12/site-packages (from ollama) (0.27.2)\n",
      "Requirement already satisfied: pydantic<3.0.0,>=2.9.0 in /opt/conda/lib/python3.12/site-packages (from ollama) (2.9.2)\n",
      "Requirement already satisfied: anyio in /opt/conda/lib/python3.12/site-packages (from httpx<0.28.0,>=0.27.0->ollama) (4.6.2.post1)\n",
      "Requirement already satisfied: certifi in /opt/conda/lib/python3.12/site-packages (from httpx<0.28.0,>=0.27.0->ollama) (2024.8.30)\n",
      "Requirement already satisfied: httpcore==1.* in /opt/conda/lib/python3.12/site-packages (from httpx<0.28.0,>=0.27.0->ollama) (1.0.7)\n",
      "Requirement already satisfied: idna in /opt/conda/lib/python3.12/site-packages (from httpx<0.28.0,>=0.27.0->ollama) (3.10)\n",
      "Requirement already satisfied: sniffio in /opt/conda/lib/python3.12/site-packages (from httpx<0.28.0,>=0.27.0->ollama) (1.3.1)\n",
      "Requirement already satisfied: h11<0.15,>=0.13 in /opt/conda/lib/python3.12/site-packages (from httpcore==1.*->httpx<0.28.0,>=0.27.0->ollama) (0.14.0)\n",
      "Requirement already satisfied: annotated-types>=0.6.0 in /opt/conda/lib/python3.12/site-packages (from pydantic<3.0.0,>=2.9.0->ollama) (0.7.0)\n",
      "Requirement already satisfied: pydantic-core==2.23.4 in /opt/conda/lib/python3.12/site-packages (from pydantic<3.0.0,>=2.9.0->ollama) (2.23.4)\n",
      "Requirement already satisfied: typing-extensions>=4.6.1 in /opt/conda/lib/python3.12/site-packages (from pydantic<3.0.0,>=2.9.0->ollama) (4.12.2)\n"
     ]
    }
   ],
   "source": [
    "!pip install ollama"
   ]
  },
  {
   "cell_type": "code",
   "execution_count": null,
   "id": "5a0ae37b-2f07-4014-8315-bd15f2417393",
   "metadata": {},
   "outputs": [
    {
     "data": {
      "application/vnd.jupyter.widget-view+json": {
       "model_id": "a08250d1f2844af8a4805a7a7dd097b4",
       "version_major": 2,
       "version_minor": 0
      },
      "text/plain": [
       "Filter:   0%|          | 0/1308 [00:00<?, ? examples/s]"
      ]
     },
     "metadata": {},
     "output_type": "display_data"
    },
    {
     "name": "stderr",
     "output_type": "stream",
     "text": [
      "/tmp/ipykernel_481/2585037135.py:16: FutureWarning: Series.__getitem__ treating keys as positions is deprecated. In a future version, integer keys will always be treated as labels (consistent with DataFrame behavior). To access a value by position, use `ser.iloc[pos]`\n",
      "  if (row[3] == \"male\"):\n"
     ]
    }
   ],
   "source": [
    "import pandas as pd\n",
    "\n",
    "from ollama import Client\n",
    "\n",
    "ollama_client = Client(host='http://ollama:11434')\n",
    "\n",
    "dataBasesIds = ['002_Titanic', '009_Central', '016_Holiday', '061_Disneyland']  #Ids das Bases de dados\n",
    "\n",
    "# Criar um DataFrame vazio para armazear os resultados \n",
    "dfRespostasLLM = pd.DataFrame(columns=[\"dataset\", \"tipo\", \"question\", \"gtAnswer\", \"modelAnswer\"]) \n",
    "\n",
    "for dataBaseId in dataBasesIds:\n",
    "\n",
    "    def filtro_por_baseDados(dataFrame):\n",
    "        return dataFrame[\"dataset\"] == dataBaseId\n",
    "    \n",
    "    # Qa filtrado por dataSet\n",
    "    qa_filtrado = all_qa.filter(filtro_por_baseDados)\n",
    "    \n",
    "    # full dataset\n",
    "    df_full = pd.read_parquet(f\"hf://datasets/cardiffnlp/databench/data/{dataBaseId}/all.parquet\")\n",
    "    baseDadosTabularFull = GerarBaseTabular(dataBaseId,'Full', df_full)\n",
    "\n",
    "    # sample dataset\n",
    "    df_sample = pd.read_parquet(f\"hf://datasets/cardiffnlp/databench/data/{dataBaseId}/sample.parquet\")\n",
    "    baseDadosTabularSample = GerarBaseTabular(dataBaseId,'Sample', df_sample)\n",
    "\n",
    "    #Executa as questoes na base Sample e Full\n",
    "    tiposBase= ['Full', 'Sample']\n",
    "    \n",
    "    for tipoBase in tiposBase:\n",
    "\n",
    "        if (tipoBase == 'Full'):\n",
    "            baseDadosTabular = baseDadosTabularFull\n",
    "        else:\n",
    "            baseDadosTabular = baseDadosTabularSample\n",
    "        \n",
    "        for linha in qa_filtrado:\n",
    "        \n",
    "            #Questão original\n",
    "            user_input = linha[\"question\"] + \"\\n\"\n",
    "           \n",
    "            # Tabela \n",
    "            #user_input =  user_input + \"'''csv \" + \"\\n\"\n",
    "            user_input =  user_input + \"---START OF FILE--- \\n\"\n",
    "            user_input =  user_input + baseDadosTabular\n",
    "            user_input =  user_input + \"---END OF FILE--- \\n\"\n",
    "        \n",
    "            #Adição regra saída no prompt\n",
    "            user_input =  user_input + \"Your answers must strictly follow the rules below: \\n\"\n",
    "            user_input =  user_input + \"Answer using only: \\n\"\n",
    "            user_input =  user_input + \"A single number (if the question requires a numeric value). \\n\"\n",
    "            user_input =  user_input + \"The word TRUE or FALSE (if the question requires a boolean answer). \\n\"\n",
    "            user_input =  user_input + \"A set of data enclosed in square brackets, such as ['30-50', '18-30', '0-18', '50+'] or ['female', 'male'] (if the question requires categories, ranges, or groups). \\n\"\n",
    "            user_input =  user_input + \"Do not elaborate on your answer with explanatory text or justifications.\"\n",
    "            user_input =  user_input + \"Do not use code in your responses. \\n\"\n",
    "            user_input =  user_input + \"If there is insufficient information to answer the question accurately, respond with FALSE. \\n\"\n",
    "                      \n",
    "            #Faz a chamada ao modelo passando o prompt e obtem a resposta\n",
    "            llm_response = ollama_client.chat(model='llama3',messages=[{'role':'user', 'content': user_input,}],options={\"temperature\":0})\n",
    "            modelAnswer = llm_response[\"message\"][\"content\"]\n",
    "           \n",
    "            # Adicionar a linha ao DataFrame \n",
    "        \n",
    "            valCol1 = dataBaseId\n",
    "            valCol2 = tipoBase\n",
    "            valCol3 = linha[\"question\"]\n",
    "\n",
    "            if (tipoBase == 'Full'):\n",
    "                valCol4 = linha[\"answer\"]\n",
    "            else:\n",
    "                valCol4 = linha[\"sample_answer\"]\n",
    "            \n",
    "            valCol5 = modelAnswer\n",
    "        \n",
    "            novaLinhaResposta = pd.DataFrame([[valCol1, valCol2, valCol3, valCol4, valCol5]],columns=[\"dataset\",\"tipo\", \"question\", \"gtAnswer\", \"modelAnswer\"])\n",
    "        \n",
    "            dfRespostasLLM = pd.concat([dfRespostasLLM, novaLinhaResposta], ignore_index=True)\n",
    "\n",
    "          "
   ]
  },
  {
   "cell_type": "code",
   "execution_count": null,
   "id": "7547d2ac-e463-4a82-9988-a885aa288826",
   "metadata": {},
   "outputs": [],
   "source": [
    "#Gera um arquivo CSV com os resultados\n",
    "\n",
    "from datetime import datetime\n",
    "\n",
    "# Obtém a data e hora atuais\n",
    "agora = datetime.now()\n",
    "\n",
    "# Converte para string no formato desejado\n",
    "data_hora_str = agora.strftime(\"%Y_%m_%d_%H_%M\")\n",
    "nomeArquivoResp = \"respostasLLM\" + data_hora_str +  \".csv\"\n",
    "      \n",
    "dfRespostasLLM.to_csv(nomeArquivoResp, index=False)  "
   ]
  },
  {
   "cell_type": "code",
   "execution_count": null,
   "id": "bdaffb68-4777-4981-a13c-54c3077a7685",
   "metadata": {},
   "outputs": [],
   "source": [
    "#Ler as respostas pos processamento LLM\n",
    "\n",
    "# Ler o arquivo CSV para um DataFrame\n",
    "dfRespostaPosProc = pd.read_csv(nomeArquivoResp)"
   ]
  },
  {
   "cell_type": "code",
   "execution_count": null,
   "id": "f98f1010-83a6-4fca-8430-27f27deefaf8",
   "metadata": {},
   "outputs": [],
   "source": [
    "dfRespostaPosProc.head(20)"
   ]
  },
  {
   "cell_type": "code",
   "execution_count": null,
   "id": "6e43e1cd-ad70-426c-8b3c-b64e19032c5e",
   "metadata": {},
   "outputs": [],
   "source": []
  }
 ],
 "metadata": {
  "kernelspec": {
   "display_name": "Python 3 (ipykernel)",
   "language": "python",
   "name": "python3"
  },
  "language_info": {
   "codemirror_mode": {
    "name": "ipython",
    "version": 3
   },
   "file_extension": ".py",
   "mimetype": "text/x-python",
   "name": "python",
   "nbconvert_exporter": "python",
   "pygments_lexer": "ipython3",
   "version": "3.12.7"
  }
 },
 "nbformat": 4,
 "nbformat_minor": 5
}
